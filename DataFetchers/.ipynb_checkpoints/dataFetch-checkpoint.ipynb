{
 "cells": [
  {
   "cell_type": "code",
   "execution_count": 8,
   "id": "4267a04b",
   "metadata": {},
   "outputs": [
    {
     "name": "stdout",
     "output_type": "stream",
     "text": [
      "China\n",
      "India\n",
      "US\n",
      "Indonesia\n",
      "Brazil\n",
      "Pakistan\n",
      "Bangladesh\n",
      "Nigeria\n",
      "Russia\n",
      "Japan\n",
      "Mexico\n",
      "Philippines\n",
      "Vietnam\n",
      "Ethiopia\n",
      "Germany\n",
      "Egypt\n",
      "Turkey\n",
      "Congo (Kinshasa)\n",
      "Iran\n",
      "Thailand\n",
      "France\n",
      "United Kingdom\n",
      "Italy\n",
      "Burma\n",
      "South Africa\n",
      "South Korea\n"
     ]
    },
    {
     "ename": "KeyError",
     "evalue": "'Korea South'",
     "output_type": "error",
     "traceback": [
      "\u001b[0;31m---------------------------------------------------------------------------\u001b[0m",
      "\u001b[0;31mKeyError\u001b[0m                                  Traceback (most recent call last)",
      "File \u001b[0;32m~/anaconda3/lib/python3.9/site-packages/pandas/core/indexes/base.py:3803\u001b[0m, in \u001b[0;36mIndex.get_loc\u001b[0;34m(self, key, method, tolerance)\u001b[0m\n\u001b[1;32m   3802\u001b[0m \u001b[38;5;28;01mtry\u001b[39;00m:\n\u001b[0;32m-> 3803\u001b[0m     \u001b[38;5;28;01mreturn\u001b[39;00m \u001b[38;5;28;43mself\u001b[39;49m\u001b[38;5;241;43m.\u001b[39;49m\u001b[43m_engine\u001b[49m\u001b[38;5;241;43m.\u001b[39;49m\u001b[43mget_loc\u001b[49m\u001b[43m(\u001b[49m\u001b[43mcasted_key\u001b[49m\u001b[43m)\u001b[49m\n\u001b[1;32m   3804\u001b[0m \u001b[38;5;28;01mexcept\u001b[39;00m \u001b[38;5;167;01mKeyError\u001b[39;00m \u001b[38;5;28;01mas\u001b[39;00m err:\n",
      "File \u001b[0;32m~/anaconda3/lib/python3.9/site-packages/pandas/_libs/index.pyx:138\u001b[0m, in \u001b[0;36mpandas._libs.index.IndexEngine.get_loc\u001b[0;34m()\u001b[0m\n",
      "File \u001b[0;32m~/anaconda3/lib/python3.9/site-packages/pandas/_libs/index.pyx:165\u001b[0m, in \u001b[0;36mpandas._libs.index.IndexEngine.get_loc\u001b[0;34m()\u001b[0m\n",
      "File \u001b[0;32mpandas/_libs/hashtable_class_helper.pxi:5745\u001b[0m, in \u001b[0;36mpandas._libs.hashtable.PyObjectHashTable.get_item\u001b[0;34m()\u001b[0m\n",
      "File \u001b[0;32mpandas/_libs/hashtable_class_helper.pxi:5753\u001b[0m, in \u001b[0;36mpandas._libs.hashtable.PyObjectHashTable.get_item\u001b[0;34m()\u001b[0m\n",
      "\u001b[0;31mKeyError\u001b[0m: 'Korea South'",
      "\nThe above exception was the direct cause of the following exception:\n",
      "\u001b[0;31mKeyError\u001b[0m                                  Traceback (most recent call last)",
      "Cell \u001b[0;32mIn [8], line 45\u001b[0m\n\u001b[1;32m     42\u001b[0m         cases_per_day\u001b[38;5;241m.\u001b[39mwrite(all_country_cases_per_day)\n\u001b[1;32m     44\u001b[0m \u001b[38;5;28;01mwhile\u001b[39;00m \u001b[38;5;28;01mTrue\u001b[39;00m:\n\u001b[0;32m---> 45\u001b[0m     \u001b[43mgetMainData\u001b[49m\u001b[43m(\u001b[49m\u001b[43m)\u001b[49m\n\u001b[1;32m     46\u001b[0m     get_agg_data()\n\u001b[1;32m     47\u001b[0m     time\u001b[38;5;241m.\u001b[39msleep(\u001b[38;5;241m3600\u001b[39m)\n",
      "Cell \u001b[0;32mIn [8], line 24\u001b[0m, in \u001b[0;36mgetMainData\u001b[0;34m()\u001b[0m\n\u001b[1;32m     21\u001b[0m     \u001b[38;5;28;01mcontinue\u001b[39;00m\n\u001b[1;32m     23\u001b[0m case_info_list \u001b[38;5;241m=\u001b[39m []\n\u001b[0;32m---> 24\u001b[0m \u001b[38;5;28;01mfor\u001b[39;00m j \u001b[38;5;129;01min\u001b[39;00m \u001b[38;5;28mrange\u001b[39m(\u001b[38;5;28mlen\u001b[39m(\u001b[43mdata\u001b[49m\u001b[43m[\u001b[49m\u001b[43mname_data_instance\u001b[49m\u001b[43m[\u001b[49m\u001b[38;5;241;43m1\u001b[39;49m\u001b[43m]\u001b[49m\u001b[43m]\u001b[49m)):\n\u001b[1;32m     26\u001b[0m     date \u001b[38;5;241m=\u001b[39m data[name_data_instance[\u001b[38;5;241m1\u001b[39m]][j][\u001b[38;5;124m'\u001b[39m\u001b[38;5;124mdate\u001b[39m\u001b[38;5;124m'\u001b[39m]\n\u001b[1;32m     27\u001b[0m     confirmed \u001b[38;5;241m=\u001b[39m data[name_data_instance[\u001b[38;5;241m1\u001b[39m]][j][\u001b[38;5;124m'\u001b[39m\u001b[38;5;124mconfirmed\u001b[39m\u001b[38;5;124m'\u001b[39m]\n",
      "File \u001b[0;32m~/anaconda3/lib/python3.9/site-packages/pandas/core/frame.py:3805\u001b[0m, in \u001b[0;36mDataFrame.__getitem__\u001b[0;34m(self, key)\u001b[0m\n\u001b[1;32m   3803\u001b[0m \u001b[38;5;28;01mif\u001b[39;00m \u001b[38;5;28mself\u001b[39m\u001b[38;5;241m.\u001b[39mcolumns\u001b[38;5;241m.\u001b[39mnlevels \u001b[38;5;241m>\u001b[39m \u001b[38;5;241m1\u001b[39m:\n\u001b[1;32m   3804\u001b[0m     \u001b[38;5;28;01mreturn\u001b[39;00m \u001b[38;5;28mself\u001b[39m\u001b[38;5;241m.\u001b[39m_getitem_multilevel(key)\n\u001b[0;32m-> 3805\u001b[0m indexer \u001b[38;5;241m=\u001b[39m \u001b[38;5;28;43mself\u001b[39;49m\u001b[38;5;241;43m.\u001b[39;49m\u001b[43mcolumns\u001b[49m\u001b[38;5;241;43m.\u001b[39;49m\u001b[43mget_loc\u001b[49m\u001b[43m(\u001b[49m\u001b[43mkey\u001b[49m\u001b[43m)\u001b[49m\n\u001b[1;32m   3806\u001b[0m \u001b[38;5;28;01mif\u001b[39;00m is_integer(indexer):\n\u001b[1;32m   3807\u001b[0m     indexer \u001b[38;5;241m=\u001b[39m [indexer]\n",
      "File \u001b[0;32m~/anaconda3/lib/python3.9/site-packages/pandas/core/indexes/base.py:3805\u001b[0m, in \u001b[0;36mIndex.get_loc\u001b[0;34m(self, key, method, tolerance)\u001b[0m\n\u001b[1;32m   3803\u001b[0m     \u001b[38;5;28;01mreturn\u001b[39;00m \u001b[38;5;28mself\u001b[39m\u001b[38;5;241m.\u001b[39m_engine\u001b[38;5;241m.\u001b[39mget_loc(casted_key)\n\u001b[1;32m   3804\u001b[0m \u001b[38;5;28;01mexcept\u001b[39;00m \u001b[38;5;167;01mKeyError\u001b[39;00m \u001b[38;5;28;01mas\u001b[39;00m err:\n\u001b[0;32m-> 3805\u001b[0m     \u001b[38;5;28;01mraise\u001b[39;00m \u001b[38;5;167;01mKeyError\u001b[39;00m(key) \u001b[38;5;28;01mfrom\u001b[39;00m \u001b[38;5;21;01merr\u001b[39;00m\n\u001b[1;32m   3806\u001b[0m \u001b[38;5;28;01mexcept\u001b[39;00m \u001b[38;5;167;01mTypeError\u001b[39;00m:\n\u001b[1;32m   3807\u001b[0m     \u001b[38;5;66;03m# If we have a listlike key, _check_indexing_error will raise\u001b[39;00m\n\u001b[1;32m   3808\u001b[0m     \u001b[38;5;66;03m#  InvalidIndexError. Otherwise we fall through and re-raise\u001b[39;00m\n\u001b[1;32m   3809\u001b[0m     \u001b[38;5;66;03m#  the TypeError.\u001b[39;00m\n\u001b[1;32m   3810\u001b[0m     \u001b[38;5;28mself\u001b[39m\u001b[38;5;241m.\u001b[39m_check_indexing_error(key)\n",
      "\u001b[0;31mKeyError\u001b[0m: 'Korea South'"
     ]
    }
   ],
   "source": [
    "import pandas as pd\n",
    "import json\n",
    "\n",
    "import urllib.request, json\n",
    "from Agg_data import get_agg_data\n",
    "import time\n",
    "\n",
    "def getMainData():\n",
    "    data_final = 'id\\tname\\tconfirmed\\trecovered\\tdeaths\\tactive\\t'\n",
    "    all_country_cases_per_day = ''\n",
    "    name_data = pd.read_csv('../country_id_names.tsv')\n",
    "    with urllib.request.urlopen(\"https://pomber.github.io/covid19/timeseries.json\") as url:\n",
    "        # data = json.loads(url.read().decode())\n",
    "        data = pd.read_json(url.read().decode())\n",
    "        for i in range(len(name_data)):\n",
    "            name_data_instance = name_data['id\\tname'][i].split('\\t')\n",
    "            print(name_data_instance[1])\n",
    "            if name_data_instance[1] == 'South Korea' :\n",
    "                name_data_instance[1] = 'Korea, South'\n",
    "            elif name_data_instance[1] == 'Western Sahara':\n",
    "                continue\n",
    "\n",
    "            case_info_list = []\n",
    "            for j in range(len(data[name_data_instance[1]])):\n",
    "\n",
    "                date = data[name_data_instance[1]][j]['date']\n",
    "                confirmed = data[name_data_instance[1]][j]['confirmed']\n",
    "                recovered = data[name_data_instance[1]][j]['recovered']\n",
    "                deaths = data[name_data_instance[1]][j]['deaths']\n",
    "                active = confirmed - recovered - deaths\n",
    "\n",
    "                case_info_list.append([date, confirmed, recovered, deaths, active])\n",
    "                all_country_cases_per_day += (f\"{date}, {confirmed}, {recovered}, {deaths}, {active}, {name_data_instance[1].replace(',','')}\\n\")\n",
    "\n",
    "            last_row = case_info_list[-1]\n",
    "            data_final = data_final + '\\n'+ name_data_instance[0] +'\\t' + name_data_instance[1] +'\\t'+ str(last_row[1]) +'\\t'+ str(last_row[2]) +'\\t'+ str(last_row[3]) +'\\t' + str(last_row[4]) + '\\t'\n",
    "\n",
    "        word_covid = open('../world_covid.tsv', 'w')\n",
    "        word_covid.write(data_final)\n",
    "\n",
    "        cases_per_day = open('../cases_per_day.csv', 'w')\n",
    "        cases_per_day.write(all_country_cases_per_day)\n",
    "\n",
    "while True:\n",
    "    getMainData()\n",
    "    get_agg_data()\n",
    "    time.sleep(3600)\n",
    "        # break\n",
    "    \n"
   ]
  },
  {
   "cell_type": "code",
   "execution_count": null,
   "id": "bbfe769b",
   "metadata": {},
   "outputs": [],
   "source": []
  }
 ],
 "metadata": {
  "kernelspec": {
   "display_name": "Python 3 (ipykernel)",
   "language": "python",
   "name": "python3"
  },
  "language_info": {
   "codemirror_mode": {
    "name": "ipython",
    "version": 3
   },
   "file_extension": ".py",
   "mimetype": "text/x-python",
   "name": "python",
   "nbconvert_exporter": "python",
   "pygments_lexer": "ipython3",
   "version": "3.9.13"
  }
 },
 "nbformat": 4,
 "nbformat_minor": 5
}
